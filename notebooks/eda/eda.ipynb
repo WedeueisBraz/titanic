{
 "cells": [
  {
   "cell_type": "markdown",
   "metadata": {},
   "source": [
    "### EDA of titanic use case data\n",
    "\n",
    "**Objective**: Have a better understanding of data distributions and relations\n",
    "\n",
    "**Results**: \n",
    "\n",
    "    - The majority of the passegers died (62%)\n",
    "    - The females survived much more than the males\n",
    "    - Higher class have a beeter chance of survival\n"
   ]
  },
  {
   "cell_type": "code",
   "execution_count": null,
   "metadata": {},
   "outputs": [],
   "source": [
    "import os                       # useful system function\n",
    "\n",
    "import pandas as pd             # data analysis\n",
    "import numpy as np              # numerical tools\n",
    "import matplotlib.pyplot as plt # plotting tools\n",
    "import seaborn as sns           # better looking plots\n",
    "\n",
    "sns.set(style = 'whitegrid')"
   ]
  },
  {
   "cell_type": "code",
   "execution_count": null,
   "metadata": {},
   "outputs": [],
   "source": [
    "DATA_PATH = '/home/wedeueis/Projetos/Artefact/Meetup/titanic/data/'\n",
    "\n",
    "TRAIN_FILE = 'interim/cleaned_train.csv'\n",
    "TEST_FILE = 'interim/cleaned_test.csv'"
   ]
  },
  {
   "cell_type": "code",
   "execution_count": null,
   "metadata": {},
   "outputs": [],
   "source": [
    "train = pd.read_csv(os.path.join(DATA_PATH, TRAIN_FILE))\n",
    "test  = pd.read_csv(os.path.join(DATA_PATH, TEST_FILE)) "
   ]
  },
  {
   "cell_type": "markdown",
   "metadata": {},
   "source": [
    "#### Train EDA"
   ]
  },
  {
   "cell_type": "code",
   "execution_count": null,
   "metadata": {},
   "outputs": [],
   "source": [
    "# Survived share\n",
    "\n",
    "labels = [\"no\", \"yes\"]\n",
    "ax = plt.pie(train[['PassengerId', 'Survived']].groupby('Survived', as_index=False).sum()['PassengerId'], labels=labels, autopct = '%0.0f%%')\n",
    "ax = plt.legend(title = \"Survived\")"
   ]
  },
  {
   "cell_type": "code",
   "execution_count": null,
   "metadata": {},
   "outputs": [],
   "source": [
    "# Survival rate by sex\n",
    "\n",
    "sns.catplot(y=\"Survived\", x=\"Sex\", kind=\"bar\", data=train)\n"
   ]
  },
  {
   "cell_type": "code",
   "execution_count": null,
   "metadata": {},
   "outputs": [],
   "source": [
    "# Survival rate by class\n",
    "\n",
    "sns.catplot(y=\"Survived\", x=\"Pclass\", kind='bar', data=train)"
   ]
  },
  {
   "cell_type": "code",
   "execution_count": null,
   "metadata": {},
   "outputs": [],
   "source": [
    "corr = train.corr()\n",
    "mask = np.zeros_like(corr)\n",
    "mask[np.triu_indices_from(mask)] = True\n",
    "\n",
    "with sns.axes_style(\"white\"):\n",
    "\n",
    "    f, ax = plt.subplots(figsize=(7, 5))\n",
    "\n",
    "    ax = sns.heatmap(corr, mask=mask, vmin=-1, vmax=1, annot=True, square=True, cmap=sns.color_palette(\"coolwarm\", as_cmap=True))"
   ]
  },
  {
   "cell_type": "markdown",
   "metadata": {},
   "source": [
    "#### Test EDA"
   ]
  },
  {
   "cell_type": "code",
   "execution_count": null,
   "metadata": {},
   "outputs": [],
   "source": [
    "# Survival rate by sex\n",
    "\n",
    "sns.catplot(y=\"Pclass\", x=\"Sex\", kind=\"bar\", data=test)"
   ]
  }
 ],
 "metadata": {
  "interpreter": {
   "hash": "8aadc420e5bb7ce9ad8ce220c1a1945ed3453b2d82f8b716a139813362d64bee"
  },
  "kernelspec": {
   "display_name": "Python 3.8.10 ('venv': venv)",
   "language": "python",
   "name": "python3"
  },
  "language_info": {
   "codemirror_mode": {
    "name": "ipython",
    "version": 3
   },
   "file_extension": ".py",
   "mimetype": "text/x-python",
   "name": "python",
   "nbconvert_exporter": "python",
   "pygments_lexer": "ipython3",
   "version": "3.8.10"
  },
  "orig_nbformat": 4
 },
 "nbformat": 4,
 "nbformat_minor": 2
}
