{
 "cells": [
  {
   "cell_type": "markdown",
   "metadata": {},
   "source": [
    "### Initial exploration of titanic use case data\n",
    "\n",
    "**Objective**: Validate the data quality\n",
    "\n",
    "**Results**: \n",
    "\n",
    "    - There is 891 samples in the train dataset and 418 in the test dataset  \n",
    "    - Some columns have missing values (age, cabin and embarked)  \n",
    "    - Some columns have unique values, they are probably ids  \n",
    "    - Some columns has a really low count of unique values they are probably categories\n",
    "    - For the test dataset there is no 'Suvived' column"
   ]
  },
  {
   "cell_type": "code",
   "execution_count": null,
   "metadata": {},
   "outputs": [],
   "source": [
    "# Import the tools\n",
    "import os \n",
    "\n",
    "import pandas as pd  "
   ]
  },
  {
   "cell_type": "code",
   "execution_count": null,
   "metadata": {},
   "outputs": [],
   "source": [
    "# Constants\n",
    "\n",
    "DATA_PATH = '/home/wedeueis/Projetos/Artefact/Meetup/titanic/data/'\n",
    "\n",
    "TRAIN_FILE = \"raw/train.csv\"\n",
    "TEST_FILE = \"raw/test.csv\""
   ]
  },
  {
   "cell_type": "code",
   "execution_count": null,
   "metadata": {},
   "outputs": [],
   "source": [
    "def variable_description(df, var_name):\n",
    "    \"Calculate some metric values for a column and return it as a Dataframe\"\n",
    "    var_desc = {\n",
    "        'name' : var_name,\n",
    "        'data type': df[var_name].dtype,\n",
    "        'unique values': len(df[var_name].unique()),\n",
    "        '% of unique values': (len(df[var_name].unique()) / len(df[var_name])) * 100,\n",
    "        'missing values': len(df[df[var_name].isna()]),\n",
    "        '% of missing values': (len(df[df[var_name].isna()]) / len(df[var_name])) * 100\n",
    "    }\n",
    "    return var_desc"
   ]
  },
  {
   "cell_type": "markdown",
   "metadata": {},
   "source": [
    "#### Train Data"
   ]
  },
  {
   "cell_type": "code",
   "execution_count": null,
   "metadata": {},
   "outputs": [],
   "source": [
    "# Read the data\n",
    "train = pd.read_csv(os.path.join(DATA_PATH, TRAIN_FILE)) #data to fit the model\n",
    "print(f\"Number of training samples: {len(train)}\")\n",
    "train.head()"
   ]
  },
  {
   "cell_type": "code",
   "execution_count": null,
   "metadata": {},
   "outputs": [],
   "source": [
    "# Descriptive Statiscs\n",
    "train.describe()"
   ]
  },
  {
   "cell_type": "code",
   "execution_count": null,
   "metadata": {},
   "outputs": [],
   "source": [
    "# Overall quality\n",
    "train_quality_df = pd.DataFrame()\n",
    "for i, col in enumerate(train.columns):\n",
    "    train_quality_df = pd.concat([train_quality_df, pd.DataFrame(variable_description(train, col), index=[i])])\n",
    "train_quality_df"
   ]
  },
  {
   "cell_type": "markdown",
   "metadata": {},
   "source": [
    "#### Test Data"
   ]
  },
  {
   "cell_type": "code",
   "execution_count": null,
   "metadata": {},
   "outputs": [],
   "source": [
    "# Read the data\n",
    "test  = pd.read_csv(os.path.join(DATA_PATH, TEST_FILE))  #data to measure model performance\n",
    "print(f\"Number of test samples: {len(test)}\")\n",
    "test.head()"
   ]
  },
  {
   "cell_type": "code",
   "execution_count": null,
   "metadata": {},
   "outputs": [],
   "source": [
    "# Descriptive Statiscs\n",
    "test.describe()"
   ]
  },
  {
   "cell_type": "code",
   "execution_count": null,
   "metadata": {},
   "outputs": [],
   "source": [
    "# Overall quality\n",
    "test_quality_df = pd.DataFrame()\n",
    "for i, col in enumerate(test.columns):\n",
    "    test_quality_df = pd.concat([test_quality_df, pd.DataFrame(variable_description(test, col), index=[i])])\n",
    "test_quality_df"
   ]
  }
 ],
 "metadata": {
  "interpreter": {
   "hash": "8aadc420e5bb7ce9ad8ce220c1a1945ed3453b2d82f8b716a139813362d64bee"
  },
  "kernelspec": {
   "display_name": "Python 3.8.10 ('venv': venv)",
   "language": "python",
   "name": "python3"
  },
  "language_info": {
   "codemirror_mode": {
    "name": "ipython",
    "version": 3
   },
   "file_extension": ".py",
   "mimetype": "text/x-python",
   "name": "python",
   "nbconvert_exporter": "python",
   "pygments_lexer": "ipython3",
   "version": "3.8.10"
  },
  "orig_nbformat": 4
 },
 "nbformat": 4,
 "nbformat_minor": 2
}
