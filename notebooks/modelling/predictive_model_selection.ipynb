{
 "cells": [
  {
   "cell_type": "markdown",
   "metadata": {},
   "source": [
    "# Titanic Predictive Model"
   ]
  },
  {
   "cell_type": "markdown",
   "metadata": {},
   "source": [
    "**Objective**: use machine learning to create a model that predicts which passengers survived the Titanic \n",
    "\n",
    "**Results**:\n",
    "\n",
    "    - using Ada Boost Classifier model we found Accuracy = 0.7966; F1 = 0.7459"
   ]
  },
  {
   "cell_type": "code",
   "execution_count": null,
   "metadata": {},
   "outputs": [],
   "source": [
    "#import librarys\n",
    "from datetime import datetime\n",
    "import pickle\n",
    "\n",
    "import pandas as pd\n",
    "from pycaret.classification import setup, compare_models, create_model, tune_model, finalize_model, plot_model, save_model"
   ]
  },
  {
   "cell_type": "code",
   "execution_count": null,
   "metadata": {},
   "outputs": [],
   "source": [
    "DATA_PATH = '/home/wedeueis/Projetos/Artefact/Meetup/titanic/data/'\n",
    "\n",
    "TRAIN_FILE = 'processed/train_model_input_with_dummies.csv'\n",
    "MODEL_FILE = '../models/predictive_pipeline'"
   ]
  },
  {
   "cell_type": "code",
   "execution_count": null,
   "metadata": {},
   "outputs": [],
   "source": [
    "#getting data\n",
    "train = pd.read_csv(os.path.join(DATA_PATH, TRAIN_FILE))\n",
    "train.set_index(\"PassengerId\", inplace=True)\n",
    "train.head()"
   ]
  },
  {
   "cell_type": "code",
   "execution_count": null,
   "metadata": {},
   "outputs": [],
   "source": [
    "#ML COM PYCARET\n",
    "model_setup = setup(data = train,\n",
    "                  target = 'Survived',\n",
    "                  numeric_features = ['Age','Fare', 'SibSp','Parch'],\n",
    "                  train_size = 0.75,\n",
    "                  normalize = True,\n",
    "                  ignore_low_variance = True,\n",
    "                  combine_rare_levels = True,\n",
    "                  remove_multicollinearity = True,\n",
    "                  feature_selection = True,\n",
    "                  fold_strategy = 'stratifiedkfold',\n",
    "                  fold = 10)"
   ]
  },
  {
   "cell_type": "code",
   "execution_count": null,
   "metadata": {},
   "outputs": [],
   "source": [
    "#choosing the best ML model\n",
    "model = compare_models()"
   ]
  },
  {
   "cell_type": "code",
   "execution_count": null,
   "metadata": {},
   "outputs": [],
   "source": [
    "#tunning model\n",
    "model_tunned = tune_model(model, optimize = 'F1', n_iter = 15)"
   ]
  },
  {
   "cell_type": "code",
   "execution_count": null,
   "metadata": {},
   "outputs": [],
   "source": [
    "final_model = finalize_model(model_tunned)"
   ]
  },
  {
   "cell_type": "code",
   "execution_count": null,
   "metadata": {},
   "outputs": [],
   "source": [
    "plot_model(final_model, plot = 'class_report')"
   ]
  },
  {
   "cell_type": "code",
   "execution_count": null,
   "metadata": {},
   "outputs": [],
   "source": [
    "save_model(final_model, os.path.join(DATA_PATH, MODEL_FILE))"
   ]
  }
 ],
 "metadata": {
  "interpreter": {
   "hash": "916dbcbb3f70747c44a77c7bcd40155683ae19c65e1c03b4aa3499c5328201f1"
  },
  "kernelspec": {
   "display_name": "Python 3.8.10 64-bit",
   "language": "python",
   "name": "python3"
  },
  "language_info": {
   "codemirror_mode": {
    "name": "ipython",
    "version": 3
   },
   "file_extension": ".py",
   "mimetype": "text/x-python",
   "name": "python",
   "nbconvert_exporter": "python",
   "pygments_lexer": "ipython3",
   "version": "3.8.10"
  },
  "orig_nbformat": 4
 },
 "nbformat": 4,
 "nbformat_minor": 2
}
