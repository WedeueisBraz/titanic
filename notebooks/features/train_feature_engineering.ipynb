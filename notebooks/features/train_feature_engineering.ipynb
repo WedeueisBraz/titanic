{
 "cells": [
  {
   "cell_type": "markdown",
   "metadata": {},
   "source": [
    "### Feature Engineering for the titanic use case data\n",
    "\n",
    "**Objective**: Change the data representation to be more informative / interpretable\n",
    "\n",
    "**Results**: "
   ]
  },
  {
   "cell_type": "code",
   "execution_count": null,
   "metadata": {},
   "outputs": [],
   "source": [
    "import os\n",
    "\n",
    "import pandas as pd"
   ]
  },
  {
   "cell_type": "code",
   "execution_count": null,
   "metadata": {},
   "outputs": [],
   "source": [
    "# Constants\n",
    "\n",
    "DATA_PATH = '/home/wedeueis/Projetos/Artefact/Meetup/titanic/data/'\n",
    "INPUT_FILE = \"interim/cleaned_train.csv\"\n",
    "OUTPUT_FILE = \"processed/{}.csv\""
   ]
  },
  {
   "cell_type": "code",
   "execution_count": null,
   "metadata": {},
   "outputs": [],
   "source": [
    "df = pd.read_csv(os.path.join(DATA_PATH, INPUT_FILE))\n",
    "df.head()"
   ]
  },
  {
   "cell_type": "code",
   "execution_count": null,
   "metadata": {},
   "outputs": [],
   "source": [
    "# Combine the Sibsp and Parch variables into a Alone true/false indicator variable\n",
    "\n",
    "df['Alone'] = ((df['SibSp'] + df['Parch']) > 0) * 1"
   ]
  },
  {
   "cell_type": "code",
   "execution_count": null,
   "metadata": {},
   "outputs": [],
   "source": [
    "df[[\"PassengerId\", 'Pclass', 'Sex', 'Age', 'SibSp', 'Parch', 'Fare', 'Embarked',\n",
    "       'Alone', 'Survived']].to_csv(os.path.join(DATA_PATH, OUTPUT_FILE.format(\"train_model_input\")), index=False)"
   ]
  },
  {
   "cell_type": "code",
   "execution_count": null,
   "metadata": {},
   "outputs": [],
   "source": [
    "# Dummify the categorical columns for numerical only algorithms\n",
    "df = pd.get_dummies(df, columns=['Pclass', 'Sex', 'Embarked'])"
   ]
  },
  {
   "cell_type": "code",
   "execution_count": null,
   "metadata": {},
   "outputs": [],
   "source": [
    "df[[\"PassengerId\", 'Age', 'SibSp', 'Parch', 'Fare', 'Alone', 'Pclass_1', 'Pclass_2', 'Sex_female', 'Embarked_C',\n",
    "       'Embarked_Q', 'Survived']].to_csv(os.path.join(DATA_PATH, OUTPUT_FILE.format(\"train_model_input_with_dummies\")), index=False)"
   ]
  }
 ],
 "metadata": {
  "interpreter": {
   "hash": "8aadc420e5bb7ce9ad8ce220c1a1945ed3453b2d82f8b716a139813362d64bee"
  },
  "kernelspec": {
   "display_name": "Python 3.8.10 ('venv': venv)",
   "language": "python",
   "name": "python3"
  },
  "language_info": {
   "codemirror_mode": {
    "name": "ipython",
    "version": 3
   },
   "file_extension": ".py",
   "mimetype": "text/x-python",
   "name": "python",
   "nbconvert_exporter": "python",
   "pygments_lexer": "ipython3",
   "version": "3.8.10"
  },
  "orig_nbformat": 4
 },
 "nbformat": 4,
 "nbformat_minor": 2
}
