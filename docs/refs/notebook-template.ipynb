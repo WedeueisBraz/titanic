{
    "cells": [
        {
            "cell_type": "markdown",
            "source": [
                "# Title"
            ],
            "metadata": {}
        },
        {
            "cell_type": "markdown",
            "source": [
                "- **project:** \"project name\"\n",
                "- **author:** \"author name\"\n",
                "- **reference:** \"link to a doc reference\""
            ],
            "metadata": {}
        },
        {
            "cell_type": "markdown",
            "source": [
                "## 1. Summary"
            ],
            "metadata": {}
        },
        {
            "cell_type": "markdown",
            "source": [
                "### 1.1 Objectives\n",
                "\n",
                "Short paragraph describing the objetives of this notebook"
            ],
            "metadata": {}
        },
        {
            "cell_type": "markdown",
            "source": [
                "### 1.2 Data\n",
                "\n",
                "Short paragraph describing the data used in this notebook"
            ],
            "metadata": {}
        },
        {
            "cell_type": "markdown",
            "source": [
                "### 1.3 Results\n",
                "\n",
                "Short paragraph description results/decisions/attention points etc"
            ],
            "metadata": {}
        },
        {
            "cell_type": "markdown",
            "source": [
                "## 2. Setup"
            ],
            "metadata": {}
        },
        {
            "cell_type": "code",
            "execution_count": null,
            "source": [
                "import datetime\n",
                "import os\n",
                "import sys\n",
                "\n",
                "import matplolib.pyplot as plt\n",
                "import numnpy as np\n",
                "import pandas as pd\n",
                "\n",
                "#import database"
            ],
            "outputs": [],
            "metadata": {}
        },
        {
            "cell_type": "code",
            "execution_count": null,
            "source": [
                "# Constants definition, config steps"
            ],
            "outputs": [],
            "metadata": {}
        },
        {
            "cell_type": "code",
            "execution_count": null,
            "source": [
                "# Data read and cleanunp"
            ],
            "outputs": [],
            "metadata": {}
        },
        {
            "cell_type": "code",
            "execution_count": null,
            "source": [
                "# Functions definitions\n",
                "def foo(name):\n",
                "    if name != None:\n",
                "        bar(name)\n",
                "    else:\n",
                "        print(\"c'mon.. what's your name?\")\n",
                "\n",
                "def bar(name):\n",
                "    print(\"Hello {}!\".format(name))"
            ],
            "outputs": [],
            "metadata": {}
        },
        {
            "cell_type": "markdown",
            "source": [
                "## 3. Results"
            ],
            "metadata": {}
        },
        {
            "cell_type": "markdown",
            "source": [
                "### 3.1 Subtitle \n",
                "\n",
                "Short description"
            ],
            "metadata": {}
        },
        {
            "cell_type": "code",
            "execution_count": null,
            "source": [
                "# Plot a result"
            ],
            "outputs": [],
            "metadata": {}
        },
        {
            "cell_type": "markdown",
            "source": [
                "### 3.2 Subtitle\n",
                "\n",
                "Short description"
            ],
            "metadata": {}
        },
        {
            "cell_type": "code",
            "execution_count": null,
            "source": [
                "# Plot another result"
            ],
            "outputs": [],
            "metadata": {}
        },
        {
            "cell_type": "markdown",
            "source": [
                "## 4. Dependencies"
            ],
            "metadata": {}
        },
        {
            "cell_type": "code",
            "execution_count": 1,
            "source": [
                "%load_ext watermark\n",
                "%watermark -v -n -p pandas,matplotlib,numpy\n",
                "%watermark -u -n -t -z"
            ],
            "outputs": [
                {
                    "output_type": "stream",
                    "name": "stdout",
                    "text": [
                        "Python implementation: CPython\n",
                        "Python version       : 3.8.10\n",
                        "IPython version      : 7.18.1\n",
                        "\n",
                        "pandas    : 1.1.2\n",
                        "matplotlib: 3.3.1\n",
                        "numpy     : 1.19.2\n",
                        "\n",
                        "Last updated: Thu Aug 26 2021 15:53:41-03\n",
                        "\n"
                    ]
                }
            ],
            "metadata": {}
        },
        {
            "cell_type": "code",
            "execution_count": null,
            "source": [],
            "outputs": [],
            "metadata": {}
        }
    ],
    "metadata": {
        "orig_nbformat": 4,
        "language_info": {
            "name": "python",
            "version": "3.8.10",
            "mimetype": "text/x-python",
            "codemirror_mode": {
                "name": "ipython",
                "version": 3
            },
            "pygments_lexer": "ipython3",
            "nbconvert_exporter": "python",
            "file_extension": ".py"
        },
        "kernelspec": {
            "name": "python3",
            "display_name": "Python 3.8.10 64-bit ('venv': venv)"
        },
        "interpreter": {
            "hash": "bbd721a7db2a1a42a729e871e15294c2a6af6e5f49075b1d5543030f4146397e"
        }
    },
    "nbformat": 4,
    "nbformat_minor": 2
}